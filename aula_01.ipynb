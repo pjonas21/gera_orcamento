{
 "cells": [
  {
   "cell_type": "code",
   "execution_count": 7,
   "id": "f9fec3c9",
   "metadata": {},
   "outputs": [],
   "source": [
    "cliente = input(\"Informe o cliente: \")\n",
    "projeto = input(\"Digite uma descrição do projeto: \")\n",
    "hora_estimada = input(\"Digite a quantidade de horas estimadas do projeto: \")\n",
    "valor_hora = input(\"Digite o valor da hora trabalhada: \")\n",
    "prazo = input(\"Informe o prazo para entrega do projeto: \")"
   ]
  },
  {
   "cell_type": "code",
   "execution_count": 8,
   "id": "7063d9f7",
   "metadata": {},
   "outputs": [
    {
     "name": "stdout",
     "output_type": "stream",
     "text": [
      "14400\n"
     ]
    }
   ],
   "source": [
    "total_orcamento = int(hora_estimada) * int(valor_hora)\n",
    "print(total_orcamento)"
   ]
  },
  {
   "cell_type": "code",
   "execution_count": 9,
   "id": "096ca2b3",
   "metadata": {},
   "outputs": [
    {
     "name": "stdout",
     "output_type": "stream",
     "text": [
      "Requirement already satisfied: fpdf in c:\\users\\paulo\\appdata\\local\\programs\\python\\python311\\lib\\site-packages (1.7.2)\n",
      "Note: you may need to restart the kernel to use updated packages.\n"
     ]
    },
    {
     "name": "stderr",
     "output_type": "stream",
     "text": [
      "\n",
      "[notice] A new release of pip available: 22.3.1 -> 23.1.2\n",
      "[notice] To update, run: python.exe -m pip install --upgrade pip\n"
     ]
    }
   ],
   "source": [
    "%pip install fpdf"
   ]
  },
  {
   "cell_type": "code",
   "execution_count": null,
   "id": "78ad4618",
   "metadata": {},
   "outputs": [],
   "source": []
  },
  {
   "cell_type": "code",
   "execution_count": 11,
   "id": "97a98273",
   "metadata": {},
   "outputs": [
    {
     "data": {
      "text/plain": [
       "''"
      ]
     },
     "execution_count": 11,
     "metadata": {},
     "output_type": "execute_result"
    }
   ],
   "source": [
    "from fpdf import FPDF\n",
    "\n",
    "pdf = FPDF()\n",
    "\n",
    "pdf.add_page()\n",
    "pdf.set_font('Arial')\n",
    "\n",
    "pdf.image('template.png', x=0, y=0)\n",
    "\n",
    "pdf.text(115, 145, projeto)\n",
    "pdf.text(115, 160, hora_estimada)\n",
    "pdf.text(115, 175, valor_hora)\n",
    "pdf.text(115, 190, prazo)\n",
    "pdf.text(115, 205, str(total_orcamento))\n",
    "pdf.text(115, 220, cliente)\n",
    "\n",
    "pdf.output(f'orçamento_{cliente}.pdf')"
   ]
  }
 ],
 "metadata": {
  "kernelspec": {
   "display_name": "Python 3 (ipykernel)",
   "language": "python",
   "name": "python3"
  },
  "language_info": {
   "codemirror_mode": {
    "name": "ipython",
    "version": 3
   },
   "file_extension": ".py",
   "mimetype": "text/x-python",
   "name": "python",
   "nbconvert_exporter": "python",
   "pygments_lexer": "ipython3",
   "version": "3.11.3"
  }
 },
 "nbformat": 4,
 "nbformat_minor": 5
}
